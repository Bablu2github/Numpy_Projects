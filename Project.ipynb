{
  "nbformat": 4,
  "nbformat_minor": 0,
  "metadata": {
    "colab": {
      "provenance": []
    },
    "kernelspec": {
      "name": "python3",
      "display_name": "Python 3"
    },
    "language_info": {
      "name": "python"
    }
  },
  "cells": [
    {
      "cell_type": "markdown",
      "source": [
        "#Instructions:\n",
        "\n",
        "Load the data. Data is already given to you in variable path\n",
        "\n",
        "How many unique ad campaigns (xyzcampaignid) does this data contain ? And for how many times was each campaign run ?\n",
        "\n",
        "What are the age groups that were targeted through these ad campaigns?\n",
        "\n",
        "What was the average, minimum and maximum amount spent on the ads?\n",
        "\n",
        "What is the id of the ad having the maximum number of clicks ?\n",
        "\n",
        "How many people bought the product after seeing the ad with most clicks? Is that the maximum number of purchases in this dataset?\n",
        "\n",
        "So the ad with the most clicks didn't fetch the maximum number of purchases. Find the details of the product having maximum number of purchases\n",
        "\n",
        "ad_id: unique ID for each ad\n",
        "\n",
        "xyzcampaignid: an ID associated with each ad campaign of XYZ company\n",
        "\n",
        "fbcampaignid: an ID associated with how Facebook tracks each \n",
        "\n",
        "campaignage: age of the person to whom the ad is shown\n",
        "\n",
        "gender: gender of the person to whom the add is shown\n",
        "\n",
        "interest: a code specifying the category to which the person’s interest belongs (interests are as mentioned in the person’s Facebook public profile)\n",
        "\n",
        "Impressions: the number of times the ad was shown\n",
        "\n",
        "Clicks: number of clicks on for that ad\n",
        "\n",
        "Spent: Amount paid by company xyz to Facebook, to show that ad\n",
        "\n",
        "Total conversion: Total number of people who enquired about the product after seeing the ad\n",
        "\n",
        "Approved conversion: Total number of people who bought the product after seeing the ad\n",
        "\n"
      ],
      "metadata": {
        "id": "yC4IeY6GN3i4"
      }
    },
    {
      "cell_type": "code",
      "source": [
        "#importing Modules\n",
        "import numpy as np\n"
      ],
      "metadata": {
        "id": "qkkh8NtEPhcs"
      },
      "execution_count": null,
      "outputs": []
    },
    {
      "cell_type": "code",
      "source": [
        "project_data ='/content/drive/MyDrive/KAG_Conversion_Data.csv'\n",
        "data_str=np.genfromtxt(project_data, delimiter=',', skip_header =1, dtype=str )\n",
        "data_float = np.genfromtxt(project_data, delimiter=',', skip_header = 1, dtype =float)\n",
        "\n",
        "data_str"
      ],
      "metadata": {
        "colab": {
          "base_uri": "https://localhost:8080/"
        },
        "id": "wuVJw-Y_ewdB",
        "outputId": "c5d2dc01-ac7d-465e-c0fd-2b8d964febae"
      },
      "execution_count": 25,
      "outputs": [
        {
          "output_type": "execute_result",
          "data": {
            "text/plain": [
              "array([['708746', '916', '103916', ..., '1.429999948', '2', '1'],\n",
              "       ['708749', '916', '103917', ..., '1.820000023', '2', '0'],\n",
              "       ['708771', '916', '103920', ..., '0', '1', '0'],\n",
              "       ...,\n",
              "       ['1314412', '1178', '179979', ..., '40.28999949', '2', '0'],\n",
              "       ['1314414', '1178', '179981', ..., '198.7100005', '8', '2'],\n",
              "       ['1314415', '1178', '179982', ..., '165.6099987', '5', '2']],\n",
              "      dtype='<U11')"
            ]
          },
          "metadata": {},
          "execution_count": 25
        }
      ]
    },
    {
      "cell_type": "markdown",
      "source": [
        "How many unique ad campaigns (xyzcampaignid) does this data contain ? And for how many times was each campaign run ?"
      ],
      "metadata": {
        "id": "ky976Sy6g7e_"
      }
    },
    {
      "cell_type": "code",
      "source": [
        "x=data_float[:,1]\n",
        "unique_id=np.unique(x, return_counts= True)\n",
        "print(\"Data Containes Unique id = \",unique_id)\n"
      ],
      "metadata": {
        "id": "VrY_56SShAP0",
        "colab": {
          "base_uri": "https://localhost:8080/"
        },
        "outputId": "967127ac-a3b4-4f1d-90f4-b69ce2090945"
      },
      "execution_count": 26,
      "outputs": [
        {
          "output_type": "stream",
          "name": "stdout",
          "text": [
            "Data Containes Unique id =  (array([ 916.,  936., 1178.]), array([ 54, 464, 625]))\n"
          ]
        }
      ]
    },
    {
      "cell_type": "code",
      "source": [
        "#number of Times Each Campaign id Run \n",
        "sum=0\n",
        "for i in unique_id:\n",
        "  for j in x:\n",
        "    if i ==j:\n",
        "      sum+=1\n",
        "  print(\"This {} id run {} times\".format(i,sum))"
      ],
      "metadata": {
        "colab": {
          "base_uri": "https://localhost:8080/"
        },
        "id": "GeJeKrhHTs4h",
        "outputId": "3e98d1a6-8797-4d4e-8285-73a706e26c5f"
      },
      "execution_count": null,
      "outputs": [
        {
          "output_type": "stream",
          "name": "stdout",
          "text": [
            "This 916 id run 54 times\n",
            "This 936 id run 518 times\n",
            "This 1178 id run 1143 times\n"
          ]
        }
      ]
    },
    {
      "cell_type": "markdown",
      "source": [
        "What are the age groups that were targeted through these ad campaigns?"
      ],
      "metadata": {
        "id": "wsGcrzP7VATq"
      }
    },
    {
      "cell_type": "code",
      "source": [
        "age_group = data_str[:,3]\n",
        "unique_age_group = np.unique(age_group)\n",
        "unique_age_group"
      ],
      "metadata": {
        "id": "nEMtKh1HT3e2",
        "colab": {
          "base_uri": "https://localhost:8080/"
        },
        "outputId": "a261dca4-9ac5-4342-e9fb-09b023595891"
      },
      "execution_count": 29,
      "outputs": [
        {
          "output_type": "execute_result",
          "data": {
            "text/plain": [
              "array(['30-34', '35-39', '40-44', '45-49'], dtype='<U11')"
            ]
          },
          "metadata": {},
          "execution_count": 29
        }
      ]
    },
    {
      "cell_type": "markdown",
      "source": [
        "What was the average, minimum and maximum amount spent on the ads?"
      ],
      "metadata": {
        "id": "gqRWFGsVhHhc"
      }
    },
    {
      "cell_type": "code",
      "source": [
        "amount_spend = data_float[:,8]\n",
        "print(np.mean(amount_spend))\n",
        "print(np.min(amount_spend))\n",
        "print(np.max(amount_spend))"
      ],
      "metadata": {
        "id": "976Pzm5yoyyb",
        "colab": {
          "base_uri": "https://localhost:8080/"
        },
        "outputId": "08823d9f-26f7-4d08-d023-fa451d83d7f6"
      },
      "execution_count": 30,
      "outputs": [
        {
          "output_type": "stream",
          "name": "stdout",
          "text": [
            "51.36065613141295\n",
            "0.0\n",
            "639.9499981\n"
          ]
        }
      ]
    },
    {
      "cell_type": "markdown",
      "source": [
        "What is the id of the ad having the maximum number of clicks ?"
      ],
      "metadata": {
        "id": "-cbMIbCsiS_X"
      }
    },
    {
      "cell_type": "code",
      "source": [
        "id_ad = data_float[:,0]\n",
        "clicks_arr = data_float[:,7]  \n",
        "id_te = np.max(clicks_arr)\n",
        "idx = list(clicks_arr).index(id_te)               \n",
        "idx"
      ],
      "metadata": {
        "id": "3qKi_QS2qtVZ",
        "colab": {
          "base_uri": "https://localhost:8080/"
        },
        "outputId": "1f1e16a6-e4c7-4df7-f64d-56875825052c"
      },
      "execution_count": 33,
      "outputs": [
        {
          "output_type": "execute_result",
          "data": {
            "text/plain": [
              "860"
            ]
          },
          "metadata": {},
          "execution_count": 33
        }
      ]
    },
    {
      "cell_type": "code",
      "source": [
        "id_ad[idx]"
      ],
      "metadata": {
        "id": "xcYgVHoVrkyI",
        "colab": {
          "base_uri": "https://localhost:8080/"
        },
        "outputId": "e35c651f-5bf4-4127-934b-4057ad594835"
      },
      "execution_count": 34,
      "outputs": [
        {
          "output_type": "execute_result",
          "data": {
            "text/plain": [
              "1121814.0"
            ]
          },
          "metadata": {},
          "execution_count": 34
        }
      ]
    },
    {
      "cell_type": "markdown",
      "source": [
        "How many people bought the product after seeing the ad with most clicks? Is that the maximum number of purchases in this dataset?"
      ],
      "metadata": {
        "id": "ZmRx_Q7BkfIJ"
      }
    },
    {
      "cell_type": "code",
      "source": [
        "pur_pro = data_float[:,10]\n",
        "#number of people who bought the product after seeing the ad with most clicks\n",
        "print('Number of people who purchased the product after seeing the add with max clicks',pur_pro[idx])"
      ],
      "metadata": {
        "id": "n4q4V6dMsAQJ",
        "colab": {
          "base_uri": "https://localhost:8080/"
        },
        "outputId": "6f7ea980-286c-4a17-e18e-c91850da07e6"
      },
      "execution_count": 35,
      "outputs": [
        {
          "output_type": "stream",
          "name": "stdout",
          "text": [
            "Number of people who purchased the product after seeing the add with max clicks 13.0\n"
          ]
        }
      ]
    },
    {
      "cell_type": "code",
      "source": [
        "np.max(pur_pro)"
      ],
      "metadata": {
        "id": "w4gU7oJMsbG1",
        "colab": {
          "base_uri": "https://localhost:8080/"
        },
        "outputId": "cd4f32b2-7bc2-4508-c487-e362709dd0e2"
      },
      "execution_count": 36,
      "outputs": [
        {
          "output_type": "execute_result",
          "data": {
            "text/plain": [
              "21.0"
            ]
          },
          "metadata": {},
          "execution_count": 36
        }
      ]
    },
    {
      "cell_type": "markdown",
      "source": [
        "So the ad with the most clicks didn't fetch the maximum number of purchases. Find the details of the product having maximum number of purchases"
      ],
      "metadata": {
        "id": "6p5_xhZCmXmk"
      }
    },
    {
      "cell_type": "code",
      "source": [
        "data_str[pur_pro == 21.0]"
      ],
      "metadata": {
        "id": "p0rz_3ZUs5uD",
        "colab": {
          "base_uri": "https://localhost:8080/"
        },
        "outputId": "f5172b20-ab70-4333-86af-a1cd1196d134"
      },
      "execution_count": 37,
      "outputs": [
        {
          "output_type": "execute_result",
          "data": {
            "text/plain": [
              "array([['1121104', '1178', '144533', '30-34', 'M', '16', '2080666',\n",
              "        '202', '360.1500015', '40', '21']], dtype='<U11')"
            ]
          },
          "metadata": {},
          "execution_count": 37
        }
      ]
    }
  ]
}